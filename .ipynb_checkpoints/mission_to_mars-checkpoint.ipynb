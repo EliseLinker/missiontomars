{
 "cells": [
  {
   "cell_type": "code",
   "execution_count": 1,
   "metadata": {},
   "outputs": [],
   "source": [
    "import time \n",
    "import pandas as pd \n",
    "from selenium import webdriver \n",
    "\n",
    "# https://splinter.readthedocs.io/en/latest/drivers/chrome.html\n",
    "# from splinter import Browser\n",
    "from bs4 import BeautifulSoup\n"
   ]
  },
  {
   "cell_type": "code",
   "execution_count": 2,
   "metadata": {},
   "outputs": [
    {
     "data": {
      "text/plain": [
       "{'news_p': \"A week before NASA's next Mars launch, Vice President Mike Pence toured the birthplace of the InSight Mars Lander and numerous other past, present and future space missions.\",\n",
       " 'news_title': 'Vice President Pence Visits JPL, Previews NASA’s Next Mars Mission Launch'}"
      ]
     },
     "execution_count": 2,
     "metadata": {},
     "output_type": "execute_result"
    }
   ],
   "source": [
    "# splinter \n",
    "#executable_path = {'executable_path': 'chromedriver.exe'}\n",
    "#browser = Browser('chrome', **executable_path, headless=False)\n",
    "\n",
    "# selenium \n",
    "def scrape_news():\n",
    "    browser = webdriver.Chrome('chromedriver.exe')\n",
    "    news = {}\n",
    "    url = 'https://mars.nasa.gov/news/'\n",
    "    browser.get(url)\n",
    "    time.sleep(1)\n",
    "    \n",
    "    html = browser.page_source \n",
    "    soup = BeautifulSoup(html, \"html.parser\")\n",
    "    \n",
    "    # print(soup.prettify())\n",
    "    \n",
    "    \n",
    "    news[\"news_title\"] = soup.find(\"div\", class_=\"content_title\").get_text()\n",
    "    news[\"news_p\"] = soup.find(\"div\", class_=\"article_teaser_body\").get_text()\n",
    "\n",
    "    return news\n",
    "\n",
    "scrape_news()\n",
    "\n"
   ]
  },
  {
   "cell_type": "code",
   "execution_count": 11,
   "metadata": {},
   "outputs": [
    {
     "name": "stdout",
     "output_type": "stream",
     "text": [
      "<a class=\"button fancybox\" data-description=\"These small spherules on the Martian surface are near Fram Crater, visited by NASA's Mars Exploration Rover Opportunity during April 2004. The area shown is 1.2 inches (3 centimeters) across.\" data-fancybox-group=\"images\" data-fancybox-href=\"/spaceimages/images/mediumsize/PIA19113_ip.jpg\" data-link=\"/spaceimages/details.php?id=PIA19113\" data-title=\"Martian Concretions Near Fram Crater\" id=\"full_image\">\n",
      "\t\t\t\t\tFULL IMAGE\n",
      "\t\t\t\t  </a>\n",
      "/spaceimages/images/mediumsize/PIA19113_ip.jpg\n"
     ]
    },
    {
     "data": {
      "text/plain": [
       "{'featured_image_url': 'https://www.jpl.nasa.gov/spaceimages/images/mediumsize/PIA19113_ip.jpg'}"
      ]
     },
     "execution_count": 11,
     "metadata": {},
     "output_type": "execute_result"
    }
   ],
   "source": [
    "def scrape_featuredimage():\n",
    "    browser = webdriver.Chrome('chromedriver.exe')\n",
    "    featuredimage = {}\n",
    "    url = 'https://www.jpl.nasa.gov/spaceimages'\n",
    "    url2 = 'https://www.jpl.nasa.gov'\n",
    "   \n",
    "    browser.get(url)\n",
    "    time.sleep(1)\n",
    "        \n",
    "    html = browser.page_source \n",
    "    soup = BeautifulSoup(html, \"lxml\")\n",
    "    mylink = soup.find(\"a\", class_=\"button fancybox\")\n",
    "    #mylink = soup.find(\"a\")\n",
    "    # print(soup.prettify())\n",
    "    print(mylink)\n",
    "    \n",
    "    mylink.attrs\n",
    "    print(mylink.attrs['data-fancybox-href'])\n",
    "    \n",
    "    featuredimage[\"featured_image_url\"] = url2 + mylink.attrs['data-fancybox-href']\n",
    "    \n",
    "\n",
    "    return featuredimage\n",
    "\n",
    "scrape_featuredimage()\n",
    "\n",
    "\n"
   ]
  },
  {
   "cell_type": "code",
   "execution_count": null,
   "metadata": {},
   "outputs": [],
   "source": [
    "def scrape_marsweather():\n",
    "    browser = webdriver.Chrome('chromedriver.exe')\n",
    "    marsweather = {}\n",
    "    url = 'https://twitter.com/marswxreport?lang=en'\n",
    "    \n",
    "    browser.get(url)\n",
    "    time.sleep(1)\n",
    "    \n",
    "    html = browser.page_source \n",
    "    soup = BeautifulSoup(html, \"lxml\")\n",
    "    \n",
    "    # print(soup.prettify())\n",
    "    \n",
    "    mylink.attrs\n",
    "    marsweather[\"mars_weather\"] = soup.find('p', class_=\"TweetTextSize TweetTextSize--normal js-tweet-text tweet-text\").text\n",
    "    #soup.find(\"a\", class_=\"button fancybox\").get_link()\n",
    "    \n",
    "    return marsweather\n",
    "\n",
    "scrape_marsweather()\n"
   ]
  },
  {
   "cell_type": "code",
   "execution_count": null,
   "metadata": {},
   "outputs": [],
   "source": [
    "def scrape_marsdata():\n",
    "    url = 'https://space-facts.com/mars/'\n",
    "    marsdata_table = pd.read_html(url)\n",
    "        \n",
    "    return marsdata_table\n",
    "\n",
    "scrape_marsdata()"
   ]
  },
  {
   "cell_type": "code",
   "execution_count": null,
   "metadata": {},
   "outputs": [],
   "source": [
    "def scrape_marshemispheres():\n",
    "    browser = webdriver.Chrome('chromedriver.exe')\n",
    "    hemisphere_image_url = {'title':[],\n",
    "                     'img_url':[]}\n",
    "    main_url = 'https://astrogeology.usgs.gov'\n",
    "    # cerberus\n",
    "    url = 'https://astrogeology.usgs.gov/search/map/Mars/Viking/cerberus_enhanced'\n",
    "    \n",
    "    browser.get(url)\n",
    "    time.sleep(1)\n",
    "    \n",
    "    html = browser.page_source \n",
    "    soup = BeautifulSoup(html, \"lxml\")\n",
    "    mylink = soup.find('img', class_=\"wide-image\")\n",
    "    mylink2 = soup.find('h2', class_=\"title\").text\n",
    "    #print(soup.prettify())\n",
    "    \n",
    "    mylink.attrs\n",
    "    hemisphere_image_url[\"title\"].append(mylink2) \n",
    "    #hemisphere_image_urls[\"img_url\"].append = mylink.attrs[\"src\"]\n",
    "    hemisphere_image_url[\"img_url\"].append(main_url + mylink.attrs[\"src\"]) \n",
    "    \n",
    "    # schiaparelli\n",
    "    hemisphere_image_url1 = {'title':[],\n",
    "                     'img_url':[]}\n",
    "    url1 = 'https://astrogeology.usgs.gov/search/map/Mars/Viking/schiaparelli_enhanced'\n",
    "    \n",
    "    browser.get(url1)\n",
    "    time.sleep(1)\n",
    "    \n",
    "    html = browser.page_source \n",
    "    soup = BeautifulSoup(html, \"lxml\")\n",
    "    mylink = soup.find('img', class_=\"wide-image\")\n",
    "    mylink2 = soup.find('h2', class_=\"title\").text\n",
    "    #print(soup.prettify())\n",
    "    \n",
    "    mylink.attrs\n",
    "    hemisphere_image_url1[\"title\"].append(mylink2)\n",
    "    #hemisphere_image_urls[\"img_url\"].append = mylink.attrs[\"src\"]\n",
    "    hemisphere_image_url1[\"img_url\"].append(main_url + mylink.attrs[\"src\"])\n",
    "    \n",
    "    # syrtis_major\n",
    "    hemisphere_image_url2 = {'title':[],\n",
    "                             'img_url':[]}\n",
    "    url2 = 'https://astrogeology.usgs.gov/search/map/Mars/Viking/syrtis_major_enhanced'\n",
    "    \n",
    "    browser.get(url2)\n",
    "    time.sleep(1)\n",
    "    \n",
    "    html = browser.page_source \n",
    "    soup = BeautifulSoup(html, \"lxml\")\n",
    "    mylink = soup.find('img', class_=\"wide-image\")\n",
    "    mylink2 = soup.find('h2', class_=\"title\").text\n",
    "    #print(soup.prettify())\n",
    "    \n",
    "    mylink.attrs\n",
    "    hemisphere_image_url2[\"title\"].append(mylink2)\n",
    "    #hemisphere_image_urls[\"img_url\"].append = mylink.attrs[\"src\"]\n",
    "    hemisphere_image_url2[\"img_url\"].append(main_url + mylink.attrs[\"src\"])\n",
    "    \n",
    "    # syrtis_major\n",
    "    hemisphere_image_url3 = {'title':[],\n",
    "                             'img_url':[]}\n",
    "    url3= 'https://astrogeology.usgs.gov/search/map/Mars/Viking/valles_marineris_enhanced'\n",
    "    \n",
    "    browser.get(url3)\n",
    "    time.sleep(1)\n",
    "    \n",
    "    html = browser.page_source \n",
    "    soup = BeautifulSoup(html, \"lxml\")\n",
    "    mylink = soup.find('img', class_=\"wide-image\")\n",
    "    mylink2 = soup.find('h2', class_=\"title\").text\n",
    "    #print(soup.prettify())\n",
    "    \n",
    "    mylink.attrs\n",
    "    hemisphere_image_url3[\"title\"].append(mylink2)\n",
    "    hemisphere_image_url3[\"img_url\"].append(main_url + mylink.attrs[\"src\"])\n",
    "    \n",
    "\n",
    "    hemisphere_image_urls = []\n",
    "    hemisphere_image_urls.append(hemisphere_image_url) \n",
    "    hemisphere_image_urls.append(hemisphere_image_url1) \n",
    "    hemisphere_image_urls.append(hemisphere_image_url2) \n",
    "    hemisphere_image_urls.append(hemisphere_image_url3)\n",
    "    \n",
    "    return hemisphere_image_urls\n",
    "\n",
    "scrape_marshemispheres()    \n",
    "# https://astrogeology.usgs.gov/cache/images/7cf2da4bf549ed01c17f206327be4db7_valles_marineris_enhanced.tif_full.jpg"
   ]
  },
  {
   "cell_type": "code",
   "execution_count": null,
   "metadata": {},
   "outputs": [],
   "source": []
  }
 ],
 "metadata": {
  "kernelspec": {
   "display_name": "Python 3",
   "language": "python",
   "name": "python3"
  },
  "language_info": {
   "codemirror_mode": {
    "name": "ipython",
    "version": 3
   },
   "file_extension": ".py",
   "mimetype": "text/x-python",
   "name": "python",
   "nbconvert_exporter": "python",
   "pygments_lexer": "ipython3",
   "version": "3.6.4"
  }
 },
 "nbformat": 4,
 "nbformat_minor": 2
}
